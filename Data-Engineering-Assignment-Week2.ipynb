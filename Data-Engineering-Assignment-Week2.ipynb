{
 "cells": [
  {
   "cell_type": "code",
   "execution_count": 0,
   "metadata": {
    "application/vnd.databricks.v1+cell": {
     "cellMetadata": {
      "byteLimit": 2048000,
      "rowLimit": 10000
     },
     "inputWidgets": {},
     "nuid": "f60fb032-ca3d-4d9a-bb21-f3bd07de4b78",
     "showTitle": false,
     "tableResultSettingsMap": {},
     "title": ""
    }
   },
   "outputs": [],
   "source": [
    "print(\"Week 2 - Assignment 1 - Question 8\")\n",
    "print(\"Search a DNA Sequence\")\n",
    "dna_sequence = ['GCT', 'AGC', 'AGG', 'TAA', 'ACT', 'CAT', 'TAT', 'CCC', 'ACG', 'GAA', 'ACC', 'GGA']\n",
    "item_to_find = str(input(\"Enter a DNA sequence you wish to search: \"))\n",
    "item_found = False\n",
    "\n",
    "for i in dna_sequence:\n",
    " if (i == item_to_find):\n",
    "  item_found = True\n",
    "\n",
    "if item_found == True:\n",
    " print(\"Item Found!\")\n",
    "else:\n",
    " print(\"Item not found\")\n",
    "   \n",
    "\n",
    " "
   ]
  },
  {
   "cell_type": "code",
   "execution_count": 0,
   "metadata": {
    "application/vnd.databricks.v1+cell": {
     "cellMetadata": {
      "byteLimit": 2048000,
      "rowLimit": 10000
     },
     "inputWidgets": {},
     "nuid": "66b1310d-3b27-4ee7-a39f-409decac928a",
     "showTitle": false,
     "tableResultSettingsMap": {},
     "title": ""
    }
   },
   "outputs": [],
   "source": [
    "print(\"Week 2 - Assignment 1 - Question 9\")\n",
    "print(\"Wanna test your fortune...TRY THIS\")\n",
    "\n",
    "import random\n",
    "\n",
    "def fortune():\n",
    " list = [\"Don't pursue happiness – create it.\", \"All things are difficult before they are easy.\",\"The early bird gets the worm, but the second mouse gets the cheese.\",\"Someone in your life needs a letter from you.\",\"Don't just think. Act!\",\"Your heart will skip a beat.\",\"The fortune you search for is in another cookie.\",\"Help! I'm being held prisoner in a Chinese bakery!\"]\n",
    " random_index = random.randint(0,7)\n",
    " your_fortune = list[random_index]\n",
    " return your_fortune\n",
    " \n",
    "\n",
    "for i in range(3):\n",
    " fortune()\n",
    " print(fortune())\n",
    "\n"
   ]
  },
  {
   "cell_type": "code",
   "execution_count": 0,
   "metadata": {
    "application/vnd.databricks.v1+cell": {
     "cellMetadata": {
      "byteLimit": 2048000,
      "rowLimit": 10000
     },
     "inputWidgets": {},
     "nuid": "26878b7a-7633-452f-b619-1c7d90bad109",
     "showTitle": false,
     "tableResultSettingsMap": {},
     "title": ""
    }
   },
   "outputs": [],
   "source": [
    "print(\"Week 2 - Assignment 1 - Question 10\")\n",
    "print(\"Distance to Miles\")\n",
    "\n",
    "def distance_to_miles(kilometer):\n",
    " miles = 1.609/kilometer\n",
    " return miles\n",
    "\n",
    "distance = float(input(\"Enter the distance in kilometers:\"))\n",
    "distance_to_miles(distance)\n",
    "print(distance,\"kilometers is equal to\",distance_to_miles(distance), \"miles.\")\n",
    "distance_to_miles(1000)\n",
    "print(\"1000 kilometers is equal to\",distance_to_miles(distance),\"miles\")"
   ]
  },
  {
   "cell_type": "code",
   "execution_count": 0,
   "metadata": {
    "application/vnd.databricks.v1+cell": {
     "cellMetadata": {
      "byteLimit": 2048000,
      "rowLimit": 10000
     },
     "inputWidgets": {},
     "nuid": "802aacc1-2fec-4295-a8fd-2d85f3cee99f",
     "showTitle": false,
     "tableResultSettingsMap": {},
     "title": ""
    }
   },
   "outputs": [],
   "source": [
    "print(\"Week 2 - Assignment 1 - Question 11\")\n",
    "print(\"Simple Calculator Program! 🔢\")\n",
    "\n",
    "def add(a,b):\n",
    "    addition = a + b\n",
    "    return addition\n",
    "\n",
    "def subtract(a, b):\n",
    "    subtraction = a-b\n",
    "    return subtraction\n",
    "\n",
    "def multiply(a,b):\n",
    "    multiplication = a*b\n",
    "    return multiplication\n",
    "\n",
    "def divide(a,b):\n",
    "    division = a/b\n",
    "    return division\n",
    "\n",
    "def exp(a, b):\n",
    "   exponent = a**b\n",
    "   return exponent\n",
    "\n",
    "number_1 = float(input(\"Enter the first Number:\"))\n",
    "number_2 = float(input(\"Enter the second Number:\"))\n",
    "print(\"The addition of the given numbers is:\", add(number_1,number_2))\n",
    "print(\"The subtraction of the given numbers is:\", subtract(number_1,number_2))\n",
    "print(\"The multiplication of the given numbers is:\", multiply(number_1,number_2))\n",
    "print(\"The division of the given numbers is:\", divide(number_1,number_2))\n",
    "print(number_1,\"to the power of\",number_2,\"is: \",exp(number_1,number_2))\n",
    " "
   ]
  },
  {
   "cell_type": "code",
   "execution_count": 0,
   "metadata": {
    "application/vnd.databricks.v1+cell": {
     "cellMetadata": {
      "byteLimit": 2048000,
      "rowLimit": 10000
     },
     "inputWidgets": {},
     "nuid": "4c66789c-4366-40bd-9163-11bb4d0101b2",
     "showTitle": false,
     "tableResultSettingsMap": {},
     "title": ""
    }
   },
   "outputs": [],
   "source": [
    "\n",
    "print(\"Week 2 - Assignment 1 - Question 12\")\n",
    "print(\"Analyzing $AMC stock in January 2023\")\n",
    "stock_prices = [34.68, 36.09, 34.94, 33.97, 34.68, 35.82, 43.41, 44.29, 44.65, 53.56, 49.85, 48.71, 48.71, 49.94, 48.53, 47.03, 46.59, 48.62, 44.21, 47.21]\n",
    "\n",
    "def price_at(x):\n",
    "  stock_value = stock_prices[x-1]\n",
    "  return stock_value\n",
    "\n",
    "def max_price(a,b):\n",
    "  max_value = stock_prices[a-1]\n",
    "  for i in range(a,b+1):\n",
    "    if stock_prices[i-1]>=max_value:\n",
    "      max_value = stock_prices[i-1]\n",
    "  return max_value\n",
    "\n",
    "def min_price(a, b):\n",
    "  min_value = stock_prices[a-1]\n",
    "  for i in range(a,b+1):\n",
    "      if stock_prices[i-1]<=min_value:\n",
    "       min_value = stock_prices[i-1]\n",
    "  return min_value\n",
    "\n",
    "print(\"Know the Value of the stock on a specific day\")\n",
    "day = int(input(\"Enter a day from 1-20 for which you wish to know the stock price: \")) \n",
    "print(\"The value of the stock on day\",day,\"is: \",price_at(day))\n",
    "\n",
    "print(\"Know the Maximum & Minimum Value of the stock between 2 days\")\n",
    "start_day = int(input(\"Enter a starting day from 1-20: \")) \n",
    "end_day = int(input(\"Enter an ending day from 1-20: \")) \n",
    "print(\"The maximum value of the stock between the given 2 days is: \",max_price(start_day, end_day))\n",
    "print(\"The minimum value of the stock between the given 2 days is: \",min_price(start_day, end_day))\n",
    "\n"
   ]
  },
  {
   "cell_type": "code",
   "execution_count": 0,
   "metadata": {
    "application/vnd.databricks.v1+cell": {
     "cellMetadata": {
      "byteLimit": 2048000,
      "rowLimit": 10000
     },
     "inputWidgets": {},
     "nuid": "8ed26987-f590-4b12-a5da-1d29d0bbda43",
     "showTitle": false,
     "tableResultSettingsMap": {},
     "title": ""
    }
   },
   "outputs": [],
   "source": [
    "print(\"Week 2 - Assignment 1 - Question 13\")\n",
    "print(\"Welcome to Harveys Drive Thru\")\n",
    "\n",
    "def welcome():\n",
    " print(\"Checkout our drive thru menu\")\n",
    " print(\"Press 1 for '🍔 Cheeseburger'\")\n",
    " print(\"Press 2 for '🍟 Fries'\")\n",
    " print(\"Press 3 for '🥤 Soda'\")\n",
    " print(\"Press 4 for '🍦 Ice Cream'\")\n",
    " print(\"Press 5 for '🍪 Cookie'\")\n",
    "\n",
    "def get_item(i):\n",
    " list = ['🍔 Cheeseburger','🍟 Fries','🥤 Soda','🍦 Ice Cream','🍪 Cookie']\n",
    " if (i>=1 and i<=5):\n",
    "  print(\"You have selected: \", list[i-1])\n",
    " else:\n",
    "  print(\"Invalid Option Selected\")\n",
    "\n",
    "\n",
    "#Main Program\n",
    "welcome()\n",
    "option = int(input(\"Enter the code for the item you wish to order:\"))\n",
    "get_item(option)\n",
    "\n"
   ]
  },
  {
   "cell_type": "code",
   "execution_count": 0,
   "metadata": {
    "application/vnd.databricks.v1+cell": {
     "cellMetadata": {
      "byteLimit": 2048000,
      "rowLimit": 10000
     },
     "inputWidgets": {},
     "nuid": "9ccea904-c275-4ae5-b729-903caf91d0af",
     "showTitle": false,
     "tableResultSettingsMap": {},
     "title": ""
    }
   },
   "outputs": [],
   "source": [
    "print(\"Week 2 - Assignment 2 - Question 1\")\n",
    "import numpy as np\n",
    "\n",
    "print('Create a numpy array with the elements \"1, 2, 3, 5, 0\", print the array and test if all of its elements are non-zero.')\n",
    "arr = np.array([1, 2, 3, 5, 0])\n",
    "print(\"The array is:\",arr)\n",
    "\n",
    "result = np.all(arr>0)\n",
    "if result ==True:\n",
    "    print(\"All elements in the array are non-zero\")\n",
    "else:\n",
    "    print(\"All elements in the array are not non-zero\")\n",
    "\n",
    "print('Create a numpy array with the elements \"0, 0, 0, 0\", print the array and test if any of its elements is non-zero.')\n",
    "arr = np.array([0,0,0,0])\n",
    "print(\"The array is:\",arr)\n",
    "result = np.any(arr>0)\n",
    "if result ==True:\n",
    "    print(\"The array contains a non-zero element\")\n",
    "else:\n",
    "    print(\"Array only contains zero elements\")\n",
    "\n",
    "print('Create a numpy array with the elements \"56, -2, 7\", print the array and the amount of memory required to store it.')\n",
    "arr = np.array([56,-2,7])\n",
    "print(\"The array is:\",arr)\n",
    "print(\"The amount of memory used to store the array is:\", arr.nbytes)\n",
    "print(\"The item size of the array is:\", arr.itemsize)\n",
    "print(\"The shape of the array is:\",arr.shape)\n",
    "\n",
    "print(\"Create a numpy array with 10 zeros and print the array.\")\n",
    "arr = np.zeros(10)\n",
    "print(\"The array with 10 zeros is:\", arr)\n",
    "\n",
    "print(\"Create a numpy array with 6 ones and print the array.\")\n",
    "arr = np.ones(6)\n",
    "print(\"The array with 6 ones is:\", arr)\n",
    "\n",
    "print(\"Create a numpy array with 12 '3's and print the array. [3 3 3 3 3 3 3 3 3 3 3 3]\")\n",
    "arr = np.full(12,3)\n",
    "print(\"The array with 12 '3's is:\", arr)\n",
    "\n",
    "print(\"Create a numpy array of the integers from 8 to 20 and print the array. (make sure 20 itself is included)\")\n",
    "arr = np.arange(8,21)\n",
    "print(\"The array of the integers from 8 to 20 inclusing 20 is:\", arr)\n"
   ]
  },
  {
   "cell_type": "code",
   "execution_count": 0,
   "metadata": {
    "application/vnd.databricks.v1+cell": {
     "cellMetadata": {
      "byteLimit": 2048000,
      "rowLimit": 10000
     },
     "inputWidgets": {},
     "nuid": "2443af8d-bfd4-4024-822b-ce90a8454147",
     "showTitle": false,
     "tableResultSettingsMap": {},
     "title": ""
    }
   },
   "outputs": [],
   "source": [
    "print(\"Week 2 - Assignment 2 - Question 2\")\n",
    "print(\"Let's determine the freshness of an egg\")\n",
    "\n",
    "import numpy as np\n",
    "\n",
    "egg_carton1 = np.array([\n",
    "  [0.89, 0.90, 0.83, 0.89, 0.97, 0.98], \n",
    "  [0.95, 0.95, 0.89, 0.95, 0.23, 0.99]\n",
    "])\n",
    "\n",
    "egg_carton2 = np.array([\n",
    "  [0.89, 0.95, 0.84, 0.92, 0.94, 0.93], \n",
    "  [0.93, 0.95, 0.02, 0.03, 0.23, 0.99]\n",
    "])\n",
    "\n",
    "egg_carton3 = np.array([\n",
    "  [0.83, 0.95, 0.89, 0.54, 0.37, 0.92], \n",
    "  [0.98, 0.99, 0.19, 0.23, 0.89, 0.91]\n",
    "])\n",
    "\n",
    "average_carton1 = np.average(egg_carton1) #Average of each carton\n",
    "print(\"The average of carton 1 is:\",average_carton1)\n",
    "average_carton2 = np.average(egg_carton2)\n",
    "print(\"The average of carton 2 is:\",average_carton2)\n",
    "average_carton3 = np.average(egg_carton3)\n",
    "print(\"The average of carton 3 is:\",average_carton3)\n",
    "\n",
    "average_array = np.array([average_carton1,average_carton2,average_carton3]) #Array of Average values\n",
    "\n",
    "max_average = np.max(average_array)  #Carton with Maximum average\n",
    "if max_average == average_carton1:\n",
    "  print(\"The carton with the highest average (most fresh) is carton1:\", max_average)\n",
    "elif max_average == average_carton2:\n",
    " print(\"The carton with the highest average (most fresh) is carton2:\", max_average)\n",
    "else:\n",
    " print(\"The carton with the highest average (most fresh) is carton3:\", max_average)\n",
    "\n",
    "min_average = np.min(average_array) #Carton with Minimum average\n",
    "if min_average == average_carton1:\n",
    " print(\"The carton with the highest average (most fresh) is carton1:\", min_average)\n",
    "elif min_average == average_carton2:\n",
    " print(\"The carton with the highest average (most fresh) is carton2:\", min_average)\n",
    "else:\n",
    " print(\"The carton with the highest average (most fresh) is carton3.:\", min_average)"
   ]
  },
  {
   "cell_type": "code",
   "execution_count": 0,
   "metadata": {
    "application/vnd.databricks.v1+cell": {
     "cellMetadata": {
      "byteLimit": 2048000,
      "rowLimit": 10000
     },
     "inputWidgets": {},
     "nuid": "23a0ed2e-7155-443b-a1ec-85be64873d1e",
     "showTitle": false,
     "tableResultSettingsMap": {},
     "title": ""
    }
   },
   "outputs": [],
   "source": [
    "print(\"Week 2 - Assignment 2 - Question 3\")\n",
    "print(\"Halley's Comet\")\n",
    "\n",
    "import numpy as np\n",
    "\n",
    "arr = np.arange(start=1986, stop=3001, step=75)\n",
    "print(\"List of the years when Halley's Comet will appear next from year 1986 to 3000:\",arr)"
   ]
  },
  {
   "cell_type": "code",
   "execution_count": 0,
   "metadata": {
    "application/vnd.databricks.v1+cell": {
     "cellMetadata": {
      "byteLimit": 2048000,
      "rowLimit": 10000
     },
     "inputWidgets": {},
     "nuid": "f16a7f75-6051-443c-a058-5f223f17d576",
     "showTitle": false,
     "tableResultSettingsMap": {},
     "title": ""
    }
   },
   "outputs": [],
   "source": [
    "print(\"Week 2 - Assignment 2 - Question 4\")\n",
    "print(\"Titanic Shipwreck Data\")\n",
    "\n",
    "import numpy as np\n",
    "\n",
    "passengers = np.array([\n",
    " [1, 0, 3, 22],\n",
    " [2, 1, 1, 38],\n",
    " [3, 1, 3, 26],\n",
    " [4, 1, 1, 35],\n",
    " [5, 0, 3, 35],\n",
    " [6, 0, 3, 18],\n",
    " [7, 0, 1, 54],\n",
    " [8, 0, 3, 2],\n",
    " [9, 1, 3, 27],\n",
    "[10, 1, 2, 14],\n",
    "[11, 1, 3, 4],\n",
    "[12, 1, 1, 58],\n",
    "[13, 0, 3, 20],\n",
    "[14, 0, 3, 39],\n",
    "[15, 0, 3, 14],\n",
    "[16, 1, 2, 55],\n",
    "[17, 0, 3, 2],\n",
    "[18, 1, 2, 12],\n",
    "[19, 0, 3, 31],\n",
    "[20, 1, 3, 8],\n",
    "[21, 0, 2, 35],\n",
    "[22, 1, 2, 34],\n",
    "[23, 1, 3, 15],\n",
    "[24, 1, 1, 28],\n",
    "[25, 0, 3, 8],\n",
    "[26, 1, 3, 38],\n",
    "[27, 0, 3, 2],\n",
    "[28, 0, 1, 1],\n",
    "[29, 1, 3, 5],\n",
    "[30, 0, 3, 18],\n",
    "[31, 0, 1, 40],\n",
    "[32, 1, 1, 70],\n",
    "[33, 1, 3, 33],\n",
    "[34, 0, 2, 66],\n",
    "[35, 0, 1, 28],\n",
    "[36, 0, 1, 42],\n",
    "[37, 1, 3, 5],\n",
    "[38, 0, 3, 18],\n",
    "[39, 0, 3, 18],\n",
    "[40, 1, 3, 14],\n",
    "[41, 0, 3, 40],\n",
    "[42, 0, 2, 27],\n",
    "[43, 0, 3, 29],\n",
    "[44, 1, 2, 0],\n",
    "[45, 1, 3, 19],\n",
    "[46, 0, 3, 33],\n",
    "[47, 0, 3, 14],\n",
    "[48, 1, 3, 22],\n",
    "[49, 0, 3, 41],\n",
    "[50, 0, 3, 18]\n",
    "])\n",
    "\n",
    "#What is the shape of this array?\n",
    "print(\"The shape of this array is:\",passengers.shape) \n",
    "\n",
    "#What is the average age of the passengers?\n",
    "sum = 0 \n",
    "for i in np.arange(1,51):\n",
    "  sum = sum + passengers[i-1][3]\n",
    "average_age = sum/50\n",
    "print(\"The average age of the passengers is:\",average_age)\n",
    "\n",
    "#What is the passenger number of the oldest passenger? Who is the youngest?\n",
    "oldest = np.max(passengers[:-1])\n",
    "print(\"The age of the oldest passenger is: \",oldest)\n",
    "for i in np.arange(1,51):\n",
    "  if passengers[i-1][3] == oldest:\n",
    "   print(\"The passenger ID for the oldest passenger is:\",passengers[i-1][0])\n",
    "\n",
    "youngest = np.min(passengers[:-1])\n",
    "print(\"The age of the youngest passenger is: \",youngest)\n",
    "for i in np.arange(1,51):\n",
    "  if passengers[i-1][3] == youngest:\n",
    "   print(\"The passenger ID for the youngest passenger is:\",passengers[i-1][0])\n",
    "\n",
    "#What is the percentage of folks that survived?\n",
    "alive = 0\n",
    "for i in np.arange(1,51):\n",
    "     if passengers[i-1][1]==1:\n",
    "         alive = alive + 1\n",
    "percentage = alive/50*100\n",
    "print(\"The percentage of folks that suvived is:\",percentage)\n",
    "\n",
    "#What is the percentage of the folks that survived based on their passenger class?\n",
    "class1_count = 0\n",
    "class2_count = 0\n",
    "class3_count = 0\n",
    "for i in np.arange(1,51):\n",
    " if passengers[i-1][1]==1:\n",
    "     if passengers[i-1][2]==1:\n",
    "         class1_count = class1_count + 1\n",
    "     elif passengers[i-1][2]==2:\n",
    "         class2_count = class2_count + 1\n",
    "     else:\n",
    "         class3_count = class3_count + 1\n",
    "\n",
    "percentage_class1 = class1_count/alive*100\n",
    "percentage_class2 = class2_count/alive*100\n",
    "percentage_class3 = class3_count/alive*100\n",
    "print(\"Total number of alive people: \", alive)\n",
    "print(\"The percentage of passenger class 1 folks that survived is:\",percentage_class1)\n",
    "print(\"The percentage of passenger class 2 folks that survived is:\",percentage_class2)\n",
    "print(\"The percentage of passenger class 3 folks that survived is:\",percentage_class3)\n"
   ]
  },
  {
   "cell_type": "code",
   "execution_count": 0,
   "metadata": {
    "application/vnd.databricks.v1+cell": {
     "cellMetadata": {
      "byteLimit": 2048000,
      "rowLimit": 10000
     },
     "inputWidgets": {},
     "nuid": "77b57a1e-d432-44c2-bc1f-3c75e5bdf0cf",
     "showTitle": false,
     "tableResultSettingsMap": {},
     "title": ""
    }
   },
   "outputs": [],
   "source": [
    "print(\"Week 2 - Assignment 2 - Question 5\")\n",
    "print(\"DataFrame\")\n",
    "\n",
    "import pandas as pd\n",
    "\n",
    "contact = {\n",
    "    'Name': ['Asia','Sukhbeer','Simran','Pinder'],\n",
    "    'Age': ['30','25','27','29'],\n",
    "    'Hobby': ['Dancing','Singing','Hiking','Cooking'],\n",
    "    'Favourite Color': ['Red','Blue','Black','Orange']\n",
    "}\n",
    "\n",
    "df = pd.DataFrame(contact)\n",
    "print(\"The table for the data is given below:\")\n",
    "print(df)"
   ]
  }
 ],
 "metadata": {
  "application/vnd.databricks.v1+notebook": {
   "computePreferences": null,
   "dashboards": [],
   "environmentMetadata": {
    "base_environment": "",
    "environment_version": "4"
   },
   "inputWidgetPreferences": null,
   "language": "python",
   "notebookMetadata": {
    "pythonIndentUnit": 4
   },
   "notebookName": "Data-Engineering-Assignment-Week2",
   "widgets": {}
  },
  "language_info": {
   "name": "python"
  }
 },
 "nbformat": 4,
 "nbformat_minor": 0
}
