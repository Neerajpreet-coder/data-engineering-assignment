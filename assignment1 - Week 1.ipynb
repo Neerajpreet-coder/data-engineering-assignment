{
 "cells": [
  {
   "cell_type": "code",
   "execution_count": 0,
   "metadata": {
    "application/vnd.databricks.v1+cell": {
     "cellMetadata": {
      "byteLimit": 2048000,
      "rowLimit": 10000
     },
     "inputWidgets": {},
     "nuid": "a7ef061d-043c-4053-9d75-c007d71657b7",
     "showTitle": false,
     "tableResultSettingsMap": {},
     "title": ""
    }
   },
   "outputs": [],
   "source": [
    "print(\"ASSIGNMENT 1 - PROBLEM 1\")\n",
    "\n",
    "print(\"!!!WANNA KNOW THE NATURE OF A LIQUID!!!\")\n",
    "ph = int(input(\"Enter the pH of the liquid between 0 & 14: \"))\n",
    "\n",
    "if ph > 7:\n",
    "    print(\"The liquid is basic\")\n",
    "elif ph < 7:\n",
    "    print(\"The liquid is acidic\")\n",
    "else:\n",
    "    print(\"The liquid is neutral\")"
   ]
  },
  {
   "cell_type": "code",
   "execution_count": 0,
   "metadata": {
    "application/vnd.databricks.v1+cell": {
     "cellMetadata": {
      "byteLimit": 2048000,
      "rowLimit": 10000
     },
     "inputWidgets": {},
     "nuid": "8095c087-7fa6-438d-b0d3-26487d5e30bd",
     "showTitle": false,
     "tableResultSettingsMap": {},
     "title": ""
    }
   },
   "outputs": [],
   "source": [
    "print(\"ASSIGNMENT 1 - PROBLEM 2\")\n",
    "\n",
    "import random\n",
    "\n",
    "print(\"MAGIC 8 BALL GAME\")\n",
    "\n",
    "question = str(input(\"Question: \"))\n",
    "print(\"Question:  \", question)\n",
    "\n",
    "List = [\"Yes - definitely.\",\"It is decidedly so.\",\"Without a doubt.\",\"Reply hazy, try again.\", \"Ask again later.\",\"Better not tell you now.\", \"My sources say no.\", \"Outlook not so good.\",\"Very doubtful.\"]\n",
    "answer = random.choice(List)\n",
    "\n",
    "print(\"Answer:     \"+ answer)\n"
   ]
  },
  {
   "cell_type": "code",
   "execution_count": 0,
   "metadata": {
    "application/vnd.databricks.v1+cell": {
     "cellMetadata": {
      "byteLimit": 2048000,
      "rowLimit": 10000
     },
     "inputWidgets": {},
     "nuid": "de41d279-e262-4478-9551-96e079ad1f8d",
     "showTitle": false,
     "tableResultSettingsMap": {},
     "title": ""
    }
   },
   "outputs": [],
   "source": [
    "print(\"ASSIGNMENT 1 - PROBLEM 3\")\n",
    "\n",
    "print(\"Welcome to the Coney Island (Brooklyn, NY)🎢\")\n",
    "\n",
    "Height = int(input(\"What is your height in cms?\"))\n",
    "Credits = int(input(\"How many credits do you have?\"))\n",
    "\n",
    "print (\"You height is\", Height, \"cms\")\n",
    "print (\"Your available credit is\", Credits)\n",
    "\n",
    "if Height>=137 and Credits>=10:\n",
    "    print(\"Enjoy the ride!\")\n",
    "elif Height<137 and Credits>=10:\n",
    "    print(\"You are not tall enough to ride\")\n",
    "elif Height>=137 and Credits<10:\n",
    "    print(\"You don't have enough credits.\")\n",
    "else:\n",
    "    print(\"You don't meet either of the requirements\")"
   ]
  },
  {
   "cell_type": "code",
   "execution_count": 0,
   "metadata": {
    "application/vnd.databricks.v1+cell": {
     "cellMetadata": {
      "byteLimit": 2048000,
      "rowLimit": 10000
     },
     "inputWidgets": {},
     "nuid": "e21c382a-96b3-4e4d-b115-60b0e007bee3",
     "showTitle": false,
     "tableResultSettingsMap": {},
     "title": ""
    }
   },
   "outputs": [],
   "source": [
    "print(\"ASSIGNMENT 1 - PROBLEM 4\")\n",
    "print(\"Welcome to Hogwarts School of Witchcraft and Wizardry\")\n",
    "print(\"Houses Categories: 🦁 Gryffindor 🦅 Ravenclaw 🦡 Hufflepuff 🐍 Slytherin\")\n",
    "\n",
    "Gryffindorndor = 0\n",
    "Ravenclaw = 0\n",
    "Hufflepuff = 0\n",
    "Slytherin = 0\n",
    "\n",
    "time = int(input(\"Q1) Do you like Dawn or Dusk? 1)Dawn  2)Dusk\"))\n",
    "if time == 1:\n",
    "    Gryffindorndor = Gryffindorndor + 1\n",
    "    Ravenclaw = Ravenclaw + 1\n",
    "elif time == 2:\n",
    "    Hufflepuff = Hufflepuff + 1\n",
    "    Slytherin = Slytherin + 1\n",
    "else:\n",
    "    print(\"Wrong input\")\n",
    "\n",
    "kind = int(input(\"Q2) When I’m dead, I want people to remember me as: 1) The Good 2) The Great 3) The Wise 4) The Bold\"))\n",
    "if kind == 1:\n",
    "    Hufflepuff = Hufflepuff + 2\n",
    "elif kind == 2:\n",
    "    Slytherin = Slytherin + 2\n",
    "elif kind == 3:\n",
    "    Ravenclaw = Ravenclaw + 2\n",
    "elif kind == 4:\n",
    "    Gryffindorndor = Gryffindorndor + 2\n",
    "else:\n",
    "    print(\"Wrong input\")\n",
    "\n",
    "\n",
    "instrument = int(input(\"Q3) Which kind of instrument most pleases your ear? 1) The violin 2) The trumpet 3) The piano 4) The drum\"))\n",
    "if instrument == 1:\n",
    "    Slytherin = Slytherin + 4\n",
    "elif instrument == 2:\n",
    "    Hufflepuff = Hufflepuff + 4\n",
    "elif instrument == 3:\n",
    "    Ravenclaw = Ravenclaw + 4\n",
    "elif instrument == 4:\n",
    "    Gryffindorndor = Gryffindorndor + 4\n",
    "else:\n",
    "    print(\"Wrong input\")\n",
    "\n",
    "print(\"Score of each house\")\n",
    "print(\"Gryffindorndor: \", Gryffindorndor)\n",
    "print(\"Ravenclaw: \", Ravenclaw)\n",
    "print(\"Hufflepuff: \", Hufflepuff)\n",
    "print(\"Slytherin: \", Slytherin)\n",
    "\n",
    "Maxhouse = max(Gryffindorndor, Ravenclaw, Hufflepuff, Slytherin)\n",
    "list1 = [Gryffindorndor,Ravenclaw,Hufflepuff,Slytherin] \n",
    "list2 =[]\n",
    "for i in list1:\n",
    "    if i == Maxhouse:\n",
    "        list2.append(i)\n",
    "print(\"list2 value:\", list2)\n",
    "        \n",
    "if Maxhouse == 0:\n",
    "    print(\"No house has the most points\")\n",
    "if Maxhouse == Gryffindorndor:\n",
    "   print(\"House with the most points is Gryffindorndor\")\n",
    "if Maxhouse == Ravenclaw:\n",
    "    print(\"House with the most points is Ravenclaw\")\n",
    "if Maxhouse == Hufflepuff:\n",
    "    print(\"House with the most points is Hufflepuff\")\n",
    "if Maxhouse == Slytherin:\n",
    "    print(\"House with the most points is Slytherin\")\n"
   ]
  },
  {
   "cell_type": "code",
   "execution_count": 0,
   "metadata": {
    "application/vnd.databricks.v1+cell": {
     "cellMetadata": {
      "byteLimit": 2048000,
      "rowLimit": 10000
     },
     "inputWidgets": {},
     "nuid": "0d0fdde9-fa24-436e-b22b-306442bcfcf3",
     "showTitle": false,
     "tableResultSettingsMap": {},
     "title": ""
    }
   },
   "outputs": [],
   "source": [
    "print(\"ASSIGNMENT 1 - PROBLEM 5\")\n",
    "print(\"Welcome to Fizz Buzz Game\")\n",
    "\n",
    "for i in range(1,100):\n",
    "  if i%3==0 and i%5==0:\n",
    "      print(\"FizzBuzz\")\n",
    "  elif i%3==0:\n",
    "      print(\"Fizz\")\n",
    "  elif i%5==0:\n",
    "      print(\"Buzz\")\n",
    "  else:\n",
    "      print(i)\n"
   ]
  },
  {
   "cell_type": "code",
   "execution_count": 0,
   "metadata": {
    "application/vnd.databricks.v1+cell": {
     "cellMetadata": {
      "byteLimit": 2048000,
      "rowLimit": 10000
     },
     "inputWidgets": {},
     "nuid": "3c457f55-8814-4ba8-8ee1-30320687d000",
     "showTitle": false,
     "tableResultSettingsMap": {},
     "title": ""
    }
   },
   "outputs": [],
   "source": [
    "print(\"ASSIGNMENT 1 - PROBLEM 6\")\n",
    "print(\"Square_Sum\")\n",
    "\n",
    "number = int(input(\"Enter a number: \"))\n",
    "Total = 0\n",
    "\n",
    "for i in range(1,number+1):\n",
    " Total = Total + i**2\n",
    "\n",
    "print(\"The total of the squares of all integers from 1 to\",number,\"is\",Total)\n",
    "\n"
   ]
  },
  {
   "cell_type": "code",
   "execution_count": 0,
   "metadata": {
    "application/vnd.databricks.v1+cell": {
     "cellMetadata": {
      "byteLimit": 2048000,
      "rowLimit": 10000
     },
     "inputWidgets": {},
     "nuid": "32dc54e9-3fcc-4947-adff-75bf9189bba7",
     "showTitle": false,
     "tableResultSettingsMap": {},
     "title": ""
    }
   },
   "outputs": [],
   "source": [
    "print(\"ASSIGNMENT 1 - PROBLEM 7\")\n",
    "print(\"Reading List\")\n",
    "\n",
    "Books = ['Harry Potter','1984','The Fault in Our Stars','The Mom Test','Life in Code']\n",
    "\n",
    "print(\"The books available in the list are:\",Books)\n",
    "Books.append('Pachinko')\n",
    "print(\"The books avaiable in the list after adding 'Pachinko' are: \", Books)\n",
    "Books.remove('The Fault in Our Stars')\n",
    "print(\"The books avaiable in the list after removing 'The Fault in Our Stars' are: \", Books)\n",
    "Books.pop(1)\n",
    "print(\"The books avaiable in the list after removing '1984' are: \", Books)"
   ]
  }
 ],
 "metadata": {
  "application/vnd.databricks.v1+notebook": {
   "computePreferences": null,
   "dashboards": [],
   "environmentMetadata": {
    "base_environment": "",
    "environment_version": "3"
   },
   "inputWidgetPreferences": null,
   "language": "python",
   "notebookMetadata": {
    "pythonIndentUnit": 4
   },
   "notebookName": "assignment1 - Week 1",
   "widgets": {}
  },
  "language_info": {
   "name": "python"
  }
 },
 "nbformat": 4,
 "nbformat_minor": 0
}
